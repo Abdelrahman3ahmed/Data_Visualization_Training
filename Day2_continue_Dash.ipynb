{
 "cells": [
  {
   "cell_type": "code",
   "execution_count": 1,
   "metadata": {},
   "outputs": [],
   "source": [
    "from dash import Dash , html, dcc\n",
    "import jupyter_dash"
   ]
  },
  {
   "cell_type": "code",
   "execution_count": 2,
   "metadata": {},
   "outputs": [],
   "source": [
    "app = Dash(external_stylesheets= ['https://codepen.io/chriddyp/pen/bWLwgP.css'])"
   ]
  },
  {
   "cell_type": "code",
   "execution_count": 3,
   "metadata": {},
   "outputs": [],
   "source": [
    "import plotly.express as px\n",
    "import pandas as pd"
   ]
  },
  {
   "cell_type": "code",
   "execution_count": 4,
   "metadata": {},
   "outputs": [],
   "source": [
    "df = px.data.gapminder()"
   ]
  },
  {
   "cell_type": "code",
   "execution_count": 5,
   "metadata": {},
   "outputs": [],
   "source": [
    "my_gap_graph = px.scatter(df , x='gdpPercap' , y ='lifeExp' ,\n",
    "           color ='continent' , size= 'pop',size_max = 40 , hover_name = 'country' )"
   ]
  },
  {
   "cell_type": "code",
   "execution_count": 6,
   "metadata": {},
   "outputs": [],
   "source": [
    "app.layout=html.Div(children = [\n",
    "    \n",
    "    html.Div(children = [\n",
    "#      html.Div( , className = 'five columns', style={'color': 'blue', 'fontSize': 60}),\n",
    "    dcc.Graph(id='my_gap_graph'),\n",
    "    dcc.Graph(id='my_gap_graph1'),\n",
    "    html.Button(id='bu', children = 'Click Me' , n_clicks=0),    \n",
    "    dcc.Slider(\n",
    "        id='my-slider',\n",
    "        min=df['year'].min(),\n",
    "        max=df['year'].max(),\n",
    "        value=df['year'].min(),\n",
    "        step = None,\n",
    "        marks={str(year):str(year)   for year in df['year'].unique()}\n",
    "    ),\n",
    "    \n",
    "    dcc.Dropdown([str(year) for year in df['continent'].unique()], 'Asia', id='continent_dropdown' , multi=True),\n",
    "   \n",
    "    ] )\n",
    "    \n",
    "    \n",
    "    \n",
    "])"
   ]
  },
  {
   "cell_type": "code",
   "execution_count": 7,
   "metadata": {},
   "outputs": [],
   "source": [
    "from dash.dependencies import Input , Output , State"
   ]
  },
  {
   "cell_type": "code",
   "execution_count": 8,
   "metadata": {},
   "outputs": [],
   "source": [
    "@app.callback(\n",
    "    Output('my_gap_graph', 'figure'),\n",
    "    Output('my_gap_graph1', 'figure'),\n",
    "    State('my-slider', 'value'),\n",
    "    State('continent_dropdown', 'value'),\n",
    "    Input('bu' , 'n_clicks')\n",
    ")\n",
    "def update_output(svalue , drop_value , cl):\n",
    "     \n",
    "    fdf = df[(df.year == svalue) & ((df.continent == drop_value[0]) | (df.continent == drop_value[1]))]\n",
    "    fi = px.scatter(fdf , x='gdpPercap' , y ='lifeExp' ,\n",
    "           color ='continent' , size= 'pop',size_max = 40 , hover_name = 'country' )\n",
    "\n",
    "\n",
    "    return fi,fi\n"
   ]
  },
  {
   "cell_type": "code",
   "execution_count": null,
   "metadata": {},
   "outputs": [
    {
     "name": "stdout",
     "output_type": "stream",
     "text": [
      "Dash is running on http://127.0.0.1:8050/\n",
      "\n",
      " * Serving Flask app \"__main__\" (lazy loading)\n",
      " * Environment: production\n",
      "   WARNING: This is a development server. Do not use it in a production deployment.\n",
      "   Use a production WSGI server instead.\n",
      " * Debug mode: off\n"
     ]
    },
    {
     "name": "stderr",
     "output_type": "stream",
     "text": [
      " * Running on http://127.0.0.1:8050/ (Press CTRL+C to quit)\n",
      "127.0.0.1 - - [24/Mar/2022 15:45:27] \"\u001b[37mGET / HTTP/1.1\u001b[0m\" 200 -\n",
      "127.0.0.1 - - [24/Mar/2022 15:45:27] \"\u001b[37mGET /_dash-component-suites/dash/deps/polyfill@7.v2_3_0m1648035509.12.1.min.js HTTP/1.1\u001b[0m\" 200 -\n",
      "127.0.0.1 - - [24/Mar/2022 15:45:27] \"\u001b[37mGET /_dash-component-suites/dash/deps/react-dom@16.v2_3_0m1648035509.14.0.min.js HTTP/1.1\u001b[0m\" 200 -\n",
      "127.0.0.1 - - [24/Mar/2022 15:45:27] \"\u001b[37mGET /_dash-component-suites/dash/deps/react@16.v2_3_0m1648035509.14.0.min.js HTTP/1.1\u001b[0m\" 200 -\n",
      "127.0.0.1 - - [24/Mar/2022 15:45:27] \"\u001b[37mGET /_dash-component-suites/dash/deps/prop-types@15.v2_3_0m1648035509.7.2.min.js HTTP/1.1\u001b[0m\" 200 -\n",
      "127.0.0.1 - - [24/Mar/2022 15:45:27] \"\u001b[37mGET /_dash-component-suites/dash/dcc/dash_core_components.v2_3_0m1648035509.js HTTP/1.1\u001b[0m\" 200 -\n",
      "127.0.0.1 - - [24/Mar/2022 15:45:27] \"\u001b[37mGET /_dash-component-suites/dash/dcc/dash_core_components-shared.v2_3_0m1648035509.js HTTP/1.1\u001b[0m\" 200 -\n",
      "127.0.0.1 - - [24/Mar/2022 15:45:27] \"\u001b[37mGET /_dash-component-suites/dash/dash-renderer/build/dash_renderer.v2_3_0m1648035509.min.js HTTP/1.1\u001b[0m\" 200 -\n",
      "127.0.0.1 - - [24/Mar/2022 15:45:27] \"\u001b[37mGET /_dash-component-suites/dash/html/dash_html_components.v2_0_2m1648035509.min.js HTTP/1.1\u001b[0m\" 200 -\n",
      "127.0.0.1 - - [24/Mar/2022 15:45:27] \"\u001b[37mGET /_dash-component-suites/dash/dash_table/bundle.v5_1_1m1648035509.js HTTP/1.1\u001b[0m\" 200 -\n",
      "127.0.0.1 - - [24/Mar/2022 15:45:28] \"\u001b[37mGET /_dash-layout HTTP/1.1\u001b[0m\" 200 -\n",
      "127.0.0.1 - - [24/Mar/2022 15:45:28] \"\u001b[37mGET /_dash-dependencies HTTP/1.1\u001b[0m\" 200 -\n",
      "127.0.0.1 - - [24/Mar/2022 15:45:28] \"\u001b[36mGET /_dash-component-suites/dash/dcc/async-graph.js HTTP/1.1\u001b[0m\" 304 -\n",
      "127.0.0.1 - - [24/Mar/2022 15:45:28] \"\u001b[36mGET /_dash-component-suites/dash/dcc/async-slider.js HTTP/1.1\u001b[0m\" 304 -\n",
      "127.0.0.1 - - [24/Mar/2022 15:45:28] \"\u001b[36mGET /_dash-component-suites/dash/dcc/async-dropdown.js HTTP/1.1\u001b[0m\" 304 -\n",
      "127.0.0.1 - - [24/Mar/2022 15:45:28] \"\u001b[36mGET /_dash-component-suites/dash/dcc/async-plotlyjs.js HTTP/1.1\u001b[0m\" 304 -\n",
      "127.0.0.1 - - [24/Mar/2022 15:45:29] \"\u001b[37mPOST /_dash-update-component HTTP/1.1\u001b[0m\" 200 -\n",
      "127.0.0.1 - - [24/Mar/2022 15:45:37] \"\u001b[37mPOST /_dash-update-component HTTP/1.1\u001b[0m\" 200 -\n"
     ]
    }
   ],
   "source": [
    "app.run_server()"
   ]
  },
  {
   "cell_type": "code",
   "execution_count": null,
   "metadata": {},
   "outputs": [],
   "source": []
  }
 ],
 "metadata": {
  "kernelspec": {
   "display_name": "Python 3",
   "language": "python",
   "name": "python3"
  },
  "language_info": {
   "codemirror_mode": {
    "name": "ipython",
    "version": 3
   },
   "file_extension": ".py",
   "mimetype": "text/x-python",
   "name": "python",
   "nbconvert_exporter": "python",
   "pygments_lexer": "ipython3",
   "version": "3.8.5"
  }
 },
 "nbformat": 4,
 "nbformat_minor": 4
}
