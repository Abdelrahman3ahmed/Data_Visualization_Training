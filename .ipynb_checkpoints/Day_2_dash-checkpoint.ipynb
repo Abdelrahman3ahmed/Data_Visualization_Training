{
 "cells": [
  {
   "cell_type": "code",
   "execution_count": null,
   "metadata": {},
   "outputs": [],
   "source": [
    "from dash import Dash , html, dcc\n",
    "import jupyter_dash"
   ]
  },
  {
   "cell_type": "code",
   "execution_count": null,
   "metadata": {},
   "outputs": [],
   "source": [
    "app = Dash(external_stylesheets= ['https://codepen.io/chriddyp/pen/bWLwgP.css'])"
   ]
  },
  {
   "cell_type": "code",
   "execution_count": null,
   "metadata": {},
   "outputs": [],
   "source": [
    "# app.layout=html.Div(children = [\n",
    "    \n",
    "#     html.Div('div1', style={'color': 'blue', 'fontSize': 14}),\n",
    "#     html.H1('HI Dash' , style={'color': 'Red', 'fontSize': 50}),\n",
    "#     html.H2('HI again'),\n",
    "#     html.Div(children = [\n",
    "#         html.H1('HI Dash' , style={'color': 'Green', 'fontSize': 60}),\n",
    "#         html.H2('HI Dash' , style={'color': 'Green', 'fontSize': 60})\n",
    "        \n",
    "#     ] , style={'background': 'red', 'fontSize': 60})\n",
    "    \n",
    "    \n",
    "    \n",
    "    \n",
    "    \n",
    "    \n",
    "    \n",
    "    \n",
    "    \n",
    "# ])"
   ]
  },
  {
   "cell_type": "code",
   "execution_count": null,
   "metadata": {},
   "outputs": [],
   "source": [
    "import plotly.express as px\n",
    "import pandas as pd"
   ]
  },
  {
   "cell_type": "code",
   "execution_count": null,
   "metadata": {},
   "outputs": [],
   "source": [
    "df = px.data.gapminder()\n",
    "df"
   ]
  },
  {
   "cell_type": "code",
   "execution_count": null,
   "metadata": {},
   "outputs": [],
   "source": [
    "my_gap_graph = px.scatter(df[df['year']==2007] , x='gdpPercap' , y ='lifeExp' ,\n",
    "           color ='continent' , size= 'pop',size_max = 40 , hover_name = 'country' )\n",
    "my_gap_graph"
   ]
  },
  {
   "cell_type": "code",
   "execution_count": null,
   "metadata": {},
   "outputs": [],
   "source": [
    "div2 = px.scatter(df , x='gdpPercap' , y ='lifeExp' ,\n",
    "           color ='continent' , size= 'pop',size_max = 40 , hover_name = 'country' \n",
    "          ,animation_frame = 'year' , title = \"Rich vs death\"\n",
    "          ,symbol = 'year' ,  template = 'plotly_dark')"
   ]
  },
  {
   "cell_type": "code",
   "execution_count": null,
   "metadata": {},
   "outputs": [],
   "source": [
    "stocs_data = px.data.stocks()\n",
    "stocs_data"
   ]
  },
  {
   "cell_type": "code",
   "execution_count": null,
   "metadata": {},
   "outputs": [],
   "source": [
    "div3 = px.line(stocs_data,   x = 'date' ,y = ['GOOG'  , 'AMZN'] ,title = \"Market Share\" , markers = True)"
   ]
  },
  {
   "cell_type": "code",
   "execution_count": null,
   "metadata": {},
   "outputs": [],
   "source": [
    "app.layout=html.Div(children = [\n",
    "    \n",
    "    html.Div(children = [\n",
    "        html.Div(dcc.Graph(figure=my_gap_graph) , className = 'five columns', style={'color': 'blue', 'fontSize': 60}),\n",
    "        html.Div(dcc.Graph(figure=div2) , className = 'five columns', style={'color': 'blue', 'fontSize': 60}),\n",
    "        html.Div(dcc.Graph(figure=div3) , className = 'four columns', style={'color': 'blue', 'fontSize': 60}),\n",
    "    ] )\n",
    "    \n",
    "    \n",
    "    \n",
    "    \n",
    "    \n",
    "    \n",
    "    \n",
    "    \n",
    "    \n",
    "])"
   ]
  },
  {
   "cell_type": "code",
   "execution_count": null,
   "metadata": {},
   "outputs": [],
   "source": [
    "app.run_server()"
   ]
  },
  {
   "cell_type": "code",
   "execution_count": null,
   "metadata": {},
   "outputs": [],
   "source": []
  },
  {
   "cell_type": "code",
   "execution_count": null,
   "metadata": {},
   "outputs": [],
   "source": []
  }
 ],
 "metadata": {
  "kernelspec": {
   "display_name": "Python 3",
   "language": "python",
   "name": "python3"
  },
  "language_info": {
   "codemirror_mode": {
    "name": "ipython",
    "version": 3
   },
   "file_extension": ".py",
   "mimetype": "text/x-python",
   "name": "python",
   "nbconvert_exporter": "python",
   "pygments_lexer": "ipython3",
   "version": "3.8.5"
  }
 },
 "nbformat": 4,
 "nbformat_minor": 4
}
